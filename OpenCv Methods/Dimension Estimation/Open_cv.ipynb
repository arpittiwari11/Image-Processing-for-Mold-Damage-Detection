{
  "nbformat": 4,
  "nbformat_minor": 0,
  "metadata": {
    "colab": {
      "name": "Open_cv.ipynb",
      "provenance": [],
      "collapsed_sections": [],
      "authorship_tag": "ABX9TyP65LbSO2TX5ZhsJ369F1eN",
      "include_colab_link": true
    },
    "kernelspec": {
      "name": "python3",
      "display_name": "Python 3"
    },
    "language_info": {
      "name": "python"
    }
  },
  "cells": [
    {
      "cell_type": "markdown",
      "metadata": {
        "id": "view-in-github",
        "colab_type": "text"
      },
      "source": [
        "<a href=\"https://colab.research.google.com/github/arpittiwari11/Image-Processing-for-Mold-Damage-Detection/blob/main/OpenCv%20Methods/Dimension%20Estimation/Open_cv.ipynb\" target=\"_parent\"><img src=\"https://colab.research.google.com/assets/colab-badge.svg\" alt=\"Open In Colab\"/></a>"
      ]
    },
    {
      "cell_type": "code",
      "metadata": {
        "id": "IL2hTak6ZIjV"
      },
      "source": [
        "from google.colab import drive"
      ],
      "execution_count": null,
      "outputs": []
    },
    {
      "cell_type": "code",
      "metadata": {
        "colab": {
          "base_uri": "https://localhost:8080/"
        },
        "id": "AeFLdqdeZJjf",
        "outputId": "bfa25cdf-1f8d-4a72-9c79-c330676fef99"
      },
      "source": [
        "drive.mount('/content/drive')"
      ],
      "execution_count": null,
      "outputs": [
        {
          "output_type": "stream",
          "text": [
            "Drive already mounted at /content/drive; to attempt to forcibly remount, call drive.mount(\"/content/drive\", force_remount=True).\n"
          ],
          "name": "stdout"
        }
      ]
    },
    {
      "cell_type": "code",
      "metadata": {
        "colab": {
          "base_uri": "https://localhost:8080/"
        },
        "id": "JERaSJ_LZO-w",
        "outputId": "57c96a1f-086b-4037-a359-e17fab99a602"
      },
      "source": [
        " pip install imutils"
      ],
      "execution_count": null,
      "outputs": [
        {
          "output_type": "stream",
          "text": [
            "Requirement already satisfied: imutils in /usr/local/lib/python3.7/dist-packages (0.5.4)\n"
          ],
          "name": "stdout"
        }
      ]
    },
    {
      "cell_type": "code",
      "metadata": {
        "colab": {
          "base_uri": "https://localhost:8080/"
        },
        "id": "0GfQNVOwZaPX",
        "outputId": "ecfd7af1-b49b-4ba0-ff66-eb4c89277bca"
      },
      "source": [
        "pip install --upgrade imutils"
      ],
      "execution_count": null,
      "outputs": [
        {
          "output_type": "stream",
          "text": [
            "Requirement already up-to-date: imutils in /usr/local/lib/python3.7/dist-packages (0.5.4)\n"
          ],
          "name": "stdout"
        }
      ]
    },
    {
      "cell_type": "code",
      "metadata": {
        "id": "_zjo_njsZcJs"
      },
      "source": [
        "# import the necessary packages\n",
        "from scipy.spatial import distance as dist\n",
        "from imutils import perspective\n",
        "from imutils import contours\n",
        "import numpy as np\n",
        "import argparse\n",
        "import imutils\n",
        "import cv2\n",
        "def midpoint(ptA, ptB):\n",
        "\treturn ((ptA[0] + ptB[0]) * 0.5, (ptA[1] + ptB[1]) * 0.5)"
      ],
      "execution_count": null,
      "outputs": []
    },
    {
      "cell_type": "code",
      "metadata": {
        "id": "N1buNJsPZerX"
      },
      "source": [
        "# load the image, convert it to grayscale, and blur it slightly\n",
        "image = cv2.imread('/content/drive/MyDrive/grgsgsf.png')\n",
        "gray = cv2.cvtColor(image, cv2.COLOR_BGR2GRAY)\n",
        "gray = cv2.GaussianBlur(gray, (7, 7), 0)\n",
        "# perform edge detection, then perform a dilation + erosion to\n",
        "# close gaps in between object edges\n",
        "edged = cv2.Canny(gray, 50, 100)\n",
        "edged = cv2.dilate(edged, None, iterations=1)\n",
        "edged = cv2.erode(edged, None, iterations=1)\n",
        "# find contours in the edge map\n",
        "cnts = cv2.findContours(edged.copy(), cv2.RETR_EXTERNAL,\n",
        "\tcv2.CHAIN_APPROX_SIMPLE)\n",
        "cnts = imutils.grab_contours(cnts)\n",
        "# sort the contours from left-to-right and initialize the\n",
        "# 'pixels per metric' calibration variable\n",
        "(cnts, _) = contours.sort_contours(cnts)\n",
        "pixelsPerMetric = None"
      ],
      "execution_count": null,
      "outputs": []
    },
    {
      "cell_type": "code",
      "metadata": {
        "id": "eC78nUsNaFvl"
      },
      "source": [
        "# loop over the contours individually\n",
        "for c in cnts:\n",
        "\t# if the contour is not sufficiently large, ignore it\n",
        "\tif cv2.contourArea(c) < 100:\n",
        "\t\tcontinue\n",
        "\t# compute the rotated bounding box of the contour\n",
        "\torig = image.copy()\n",
        "\tbox = cv2.minAreaRect(c)\n",
        "\tbox = cv2.cv.BoxPoints(box) if imutils.is_cv2() else cv2.boxPoints(box)\n",
        "\tbox = np.array(box, dtype=\"int\")\n",
        "\t# order the points in the contour such that they appear\n",
        "\t# in top-left, top-right, bottom-right, and bottom-left\n",
        "\t# order, then draw the outline of the rotated bounding\n",
        "\t# box\n",
        "\tbox = perspective.order_points(box)\n",
        "\tcv2.drawContours(orig, [box.astype(\"int\")], -1, (0, 255, 0), 2)\n",
        "\t# loop over the original points and draw them\n",
        "\tfor (x, y) in box:\n",
        "\t\tcv2.circle(orig, (int(x), int(y)), 5, (0, 0, 255), -1)"
      ],
      "execution_count": null,
      "outputs": []
    },
    {
      "cell_type": "code",
      "metadata": {
        "colab": {
          "base_uri": "https://localhost:8080/"
        },
        "id": "mZiIs-rMaUlh",
        "outputId": "773e3e17-a020-4967-8683-e063e8c5513a"
      },
      "source": [
        "  # unpack the ordered bounding box, then compute the midpoint\n",
        "\t# between the top-left and top-right coordinates, followed by\n",
        "\t# the midpoint between bottom-left and bottom-right coordinates\n",
        "(tl, tr, br, bl) = box\n",
        "(tltrX, tltrY) = midpoint(tl, tr)\n",
        "(blbrX, blbrY) = midpoint(bl, br)\n",
        "\t# compute the midpoint between the top-left and top-right points,\n",
        "\t# followed by the midpoint between the top-righ and bottom-right\n",
        "(tlblX, tlblY) = midpoint(tl, bl)\n",
        "(trbrX, trbrY) = midpoint(tr, br)\n",
        "\t# draw the midpoints on the image\n",
        "cv2.circle(orig, (int(tltrX), int(tltrY)), 5, (255, 0, 0), -1)\n",
        "cv2.circle(orig, (int(blbrX), int(blbrY)), 5, (255, 0, 0), -1)\n",
        "cv2.circle(orig, (int(tlblX), int(tlblY)), 5, (255, 0, 0), -1)\n",
        "cv2.circle(orig, (int(trbrX), int(trbrY)), 5, (255, 0, 0), -1)\n",
        "\t# draw lines between the midpoints\n",
        "cv2.line(orig, (int(tltrX), int(tltrY)), (int(blbrX), int(blbrY)),\n",
        "(255, 0, 255), 2)\n",
        "cv2.line(orig, (int(tlblX), int(tlblY)), (int(trbrX), int(trbrY)),\n",
        "(255, 0, 255), 2)"
      ],
      "execution_count": null,
      "outputs": [
        {
          "output_type": "execute_result",
          "data": {
            "text/plain": [
              "array([[[191, 191, 191],\n",
              "        [192, 192, 192],\n",
              "        [192, 192, 192],\n",
              "        ...,\n",
              "        [255, 255, 255],\n",
              "        [255, 255, 255],\n",
              "        [255, 255, 255]],\n",
              "\n",
              "       [[189, 189, 189],\n",
              "        [192, 192, 192],\n",
              "        [192, 192, 192],\n",
              "        ...,\n",
              "        [255, 255, 255],\n",
              "        [255, 255, 255],\n",
              "        [255, 255, 255]],\n",
              "\n",
              "       [[189, 189, 189],\n",
              "        [192, 192, 192],\n",
              "        [192, 192, 192],\n",
              "        ...,\n",
              "        [255, 255, 255],\n",
              "        [255, 255, 255],\n",
              "        [255, 255, 255]],\n",
              "\n",
              "       ...,\n",
              "\n",
              "       [[180, 180, 180],\n",
              "        [182, 182, 182],\n",
              "        [181, 181, 181],\n",
              "        ...,\n",
              "        [255, 255, 255],\n",
              "        [255, 255, 255],\n",
              "        [255, 255, 255]],\n",
              "\n",
              "       [[255, 255, 255],\n",
              "        [255, 255, 255],\n",
              "        [255, 255, 255],\n",
              "        ...,\n",
              "        [255, 255, 255],\n",
              "        [255, 255, 255],\n",
              "        [255, 255, 255]],\n",
              "\n",
              "       [[255, 255, 255],\n",
              "        [255, 255, 255],\n",
              "        [255, 255, 255],\n",
              "        ...,\n",
              "        [255, 255, 255],\n",
              "        [255, 255, 255],\n",
              "        [255, 255, 255]]], dtype=uint8)"
            ]
          },
          "metadata": {
            "tags": []
          },
          "execution_count": 183
        }
      ]
    },
    {
      "cell_type": "code",
      "metadata": {
        "id": "9qxVzJuRajAw"
      },
      "source": [
        "\t# compute the Euclidean distance between the midpoints\n",
        "\tdA = dist.euclidean((tltrX, tltrY), (blbrX, blbrY))\n",
        "\tdB = dist.euclidean((tlblX, tlblY), (trbrX, trbrY))\n",
        "\t# if the pixels per metric has not been initialized, then\n",
        "\t# compute it as the ratio of pixels to supplied metric\n",
        "\t# (in this case, inches)\n",
        "\tif pixelsPerMetric is None:\n",
        "\t\tpixelsPerMetric = dB / 0.997"
      ],
      "execution_count": null,
      "outputs": []
    },
    {
      "cell_type": "code",
      "metadata": {
        "id": "Ot73QhE6bsHd"
      },
      "source": [
        "from google.colab.patches import cv2_imshow"
      ],
      "execution_count": null,
      "outputs": []
    },
    {
      "cell_type": "code",
      "metadata": {
        "colab": {
          "base_uri": "https://localhost:8080/",
          "height": 94
        },
        "id": "0hayOBLLa9HW",
        "outputId": "4d8e4db9-0249-42c1-a45c-1f4f8864019c"
      },
      "source": [
        "\t# compute the size of the object\n",
        "\tdimA = dA / pixelsPerMetric\n",
        "\tdimB = dB / pixelsPerMetric\n",
        "\t# draw the object sizes on the image\n",
        "\tcv2.putText(orig, \"{:.1f}in\".format(dimA),\n",
        "\t\t(int(tltrX - 15), int(tltrY - 10)), cv2.FONT_HERSHEY_SIMPLEX,\n",
        "\t\t0.40, (255, 255, 255), 2)\n",
        "\tcv2.putText(orig, \"{:.1f}in\".format(dimB),\n",
        "\t\t(int(trbrX + 10), int(trbrY)), cv2.FONT_HERSHEY_SIMPLEX,\n",
        "\t\t0.40, (255, 255, 255), 2)\n",
        "\t# show the output image\n",
        "\n",
        "\tcv2_imshow(orig)\n",
        "\tcv2.waitKey(0)"
      ],
      "execution_count": null,
      "outputs": [
        {
          "output_type": "display_data",
          "data": {
            "image/png": "[encoded data removed]",
            "text/plain": [
              "<PIL.Image.Image image mode=RGB size=69x60 at 0x7FEB189F3110>"
            ]
          },
          "metadata": {
            "tags": []
          }
        },
        {
          "output_type": "execute_result",
          "data": {
            "text/plain": [
              "-1"
            ]
          },
          "metadata": {
            "tags": []
          },
          "execution_count": 188
        }
      ]
    },
    {
      "cell_type": "code",
      "metadata": {
        "id": "kRtpT6R7bYRy"
      },
      "source": [
        ""
      ],
      "execution_count": null,
      "outputs": []
    }
  ]
}